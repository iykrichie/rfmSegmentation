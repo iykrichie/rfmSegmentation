{
 "cells": [
  {
   "cell_type": "markdown",
   "metadata": {
    "application/vnd.databricks.v1+cell": {
     "inputWidgets": {},
     "nuid": "a5cb0744-b2be-45e4-b8b8-e6c34c6981c7",
     "showTitle": false,
     "title": ""
    },
    "azdata_cell_guid": "5fe0075f-b3f8-4bbf-9f74-7534bbaef920"
   },
   "source": [
    "# RFM Segmentation for retail customers"
   ]
  },
  {
   "cell_type": "markdown",
   "metadata": {
    "application/vnd.databricks.v1+cell": {
     "inputWidgets": {},
     "nuid": "3842c066-f58a-48f5-96ca-dd803dab5e80",
     "showTitle": false,
     "title": ""
    },
    "azdata_cell_guid": "aa4b29da-230c-40f7-b146-649c354f30a1"
   },
   "source": [
    "Segmentation of non-corporate customers according to their transactional activity. customer data is limited to 6 months transactional history.\n",
    "\n",
    "Variables used:\n",
    "\n",
    "- Transaction Recency - this refers to the total days since the customer carried out a transaction\n",
    "\n",
    "- Transaction Frequency - this refers to the total number of unique transaction done by the customer within the 6-months period\n",
    "\n",
    "- Transaction Monetary Value - this refers to the total amount (value) of transaction done by the customer within the 6- months period."
   ]
  },
  {
   "cell_type": "markdown",
   "metadata": {
    "application/vnd.databricks.v1+cell": {
     "inputWidgets": {},
     "nuid": "dd4df9de-d974-4c49-806c-e7b5115db7a0",
     "showTitle": false,
     "title": ""
    },
    "azdata_cell_guid": "f08dcb7c-44df-4019-bf92-6149e4923f02"
   },
   "source": [
    "### **Getting required packages**\n",
    "\n",
    "Here we load the packages and required libraries for the project.\n",
    "\n",
    "Note:  I had to comment out lines to to load the _**pyodbc**_ and \\_**pandasq**\\_l packages since this is just a demo using csv data as input.\n",
    "\n",
    "_<mark>I had loaded the data from MSSQL database and automated a pipleline to repeat this data load every 6-months. Using the job feature on Azure Databricks</mark>_"
   ]
  },
  {
   "cell_type": "code",
   "execution_count": 52,
   "metadata": {
    "application/vnd.databricks.v1+cell": {
     "inputWidgets": {},
     "nuid": "6d7b266c-8bc4-4dc2-82a9-cbbd35f651f7",
     "showTitle": false,
     "title": ""
    },
    "azdata_cell_guid": "0e83dc87-8884-4a85-904d-47f6c49fe510",
    "gather": {
     "logged": 1644045326194
    },
    "language": "python",
    "tags": []
   },
   "outputs": [
    {
     "name": "stdout",
     "output_type": "stream",
     "text": [
      "Python: 3.9.13 (main, Aug 25 2022, 23:51:50) [MSC v.1916 64 bit (AMD64)]\n",
      "Pandas: 1.4.4\n",
      "pyODBC: 4.0.34\n"
     ]
    }
   ],
   "source": [
    "#Import Packages\n",
    "import pandas as pd # working with data\n",
    "import numpy as np # working with arrays\n",
    "import matplotlib.pyplot as plt # visualization\n",
    "import seaborn as sns\n",
    "\n",
    "#!pip install -U pyodbc\n",
    "import pyodbc\n",
    "import sys\n",
    "\n",
    "## Importing pandasql \n",
    "#!pip install -U pandasql  - this was used in connecting to MSSQL database in production, but would not be required for this public use.\n",
    "import pandasql as psql\n",
    "from pandasql import sqldf \n",
    "\n",
    "\n",
    "import warnings\n",
    "warnings.simplefilter(action='ignore', category=FutureWarning)\n",
    "warnings.filterwarnings(\"ignore\", category=RuntimeWarning) \n",
    "\n",
    "print('Python: ' + sys.version.split('|')[0])\n",
    "print('Pandas: ' + pd.__version__)\n",
    "print('pyODBC: ' + pyodbc.version)"
   ]
  },
  {
   "cell_type": "markdown",
   "metadata": {
    "application/vnd.databricks.v1+cell": {
     "inputWidgets": {},
     "nuid": "e8e534b1-7826-499d-855f-176965c78fcd",
     "showTitle": false,
     "title": ""
    },
    "azdata_cell_guid": "28f1a492-3566-437a-97d4-314be9667881"
   },
   "source": [
    "## Load 6-months transacntion history as input dataset"
   ]
  },
  {
   "cell_type": "code",
   "execution_count": 53,
   "metadata": {
    "azdata_cell_guid": "8f69ce4c-88a9-42b4-856c-1b7a847d2fc8",
    "language": "python"
   },
   "outputs": [
    {
     "data": {
      "text/html": [
       "<div>\n",
       "<style scoped>\n",
       "    .dataframe tbody tr th:only-of-type {\n",
       "        vertical-align: middle;\n",
       "    }\n",
       "\n",
       "    .dataframe tbody tr th {\n",
       "        vertical-align: top;\n",
       "    }\n",
       "\n",
       "    .dataframe thead th {\n",
       "        text-align: right;\n",
       "    }\n",
       "</style>\n",
       "<table border=\"1\" class=\"dataframe\">\n",
       "  <thead>\n",
       "    <tr style=\"text-align: right;\">\n",
       "      <th></th>\n",
       "      <th>Unnamed: 0</th>\n",
       "      <th>CustId</th>\n",
       "      <th>Frequency</th>\n",
       "      <th>Recency</th>\n",
       "      <th>Monetary</th>\n",
       "      <th>DateLoaded</th>\n",
       "    </tr>\n",
       "  </thead>\n",
       "  <tbody>\n",
       "    <tr>\n",
       "      <th>0</th>\n",
       "      <td>0</td>\n",
       "      <td>15199727</td>\n",
       "      <td>1624</td>\n",
       "      <td>26</td>\n",
       "      <td>5.933760e+07</td>\n",
       "      <td>2022-12-25 10:16:04.026666</td>\n",
       "    </tr>\n",
       "    <tr>\n",
       "      <th>1</th>\n",
       "      <td>1</td>\n",
       "      <td>213865</td>\n",
       "      <td>2852</td>\n",
       "      <td>6</td>\n",
       "      <td>7.009621e+07</td>\n",
       "      <td>2022-12-25 10:16:04.026666</td>\n",
       "    </tr>\n",
       "    <tr>\n",
       "      <th>2</th>\n",
       "      <td>2</td>\n",
       "      <td>15284766</td>\n",
       "      <td>5887</td>\n",
       "      <td>3</td>\n",
       "      <td>1.666437e+08</td>\n",
       "      <td>2022-12-25 10:16:04.026666</td>\n",
       "    </tr>\n",
       "    <tr>\n",
       "      <th>3</th>\n",
       "      <td>3</td>\n",
       "      <td>15908036</td>\n",
       "      <td>124</td>\n",
       "      <td>72</td>\n",
       "      <td>7.590200e+05</td>\n",
       "      <td>2022-12-25 10:16:04.026666</td>\n",
       "    </tr>\n",
       "    <tr>\n",
       "      <th>4</th>\n",
       "      <td>4</td>\n",
       "      <td>14471235</td>\n",
       "      <td>5390</td>\n",
       "      <td>10</td>\n",
       "      <td>9.211388e+07</td>\n",
       "      <td>2022-12-25 10:16:04.026666</td>\n",
       "    </tr>\n",
       "    <tr>\n",
       "      <th>...</th>\n",
       "      <td>...</td>\n",
       "      <td>...</td>\n",
       "      <td>...</td>\n",
       "      <td>...</td>\n",
       "      <td>...</td>\n",
       "      <td>...</td>\n",
       "    </tr>\n",
       "    <tr>\n",
       "      <th>1184477</th>\n",
       "      <td>1184477</td>\n",
       "      <td>15468053</td>\n",
       "      <td>11252</td>\n",
       "      <td>11</td>\n",
       "      <td>6.646246e+08</td>\n",
       "      <td>2022-12-25 10:16:04.026666</td>\n",
       "    </tr>\n",
       "    <tr>\n",
       "      <th>1184478</th>\n",
       "      <td>1184478</td>\n",
       "      <td>14039494</td>\n",
       "      <td>12688</td>\n",
       "      <td>3</td>\n",
       "      <td>7.567593e+08</td>\n",
       "      <td>2022-12-25 10:16:04.026666</td>\n",
       "    </tr>\n",
       "    <tr>\n",
       "      <th>1184479</th>\n",
       "      <td>1184479</td>\n",
       "      <td>63534</td>\n",
       "      <td>183</td>\n",
       "      <td>73</td>\n",
       "      <td>0.000000e+00</td>\n",
       "      <td>2022-12-25 10:16:04.026666</td>\n",
       "    </tr>\n",
       "    <tr>\n",
       "      <th>1184480</th>\n",
       "      <td>1184480</td>\n",
       "      <td>1300327</td>\n",
       "      <td>63379</td>\n",
       "      <td>3</td>\n",
       "      <td>4.904952e+09</td>\n",
       "      <td>2022-12-25 10:16:04.026666</td>\n",
       "    </tr>\n",
       "    <tr>\n",
       "      <th>1184481</th>\n",
       "      <td>1184481</td>\n",
       "      <td>14123678</td>\n",
       "      <td>5415</td>\n",
       "      <td>3</td>\n",
       "      <td>2.316480e+07</td>\n",
       "      <td>2022-12-25 10:16:04.026666</td>\n",
       "    </tr>\n",
       "  </tbody>\n",
       "</table>\n",
       "<p>1184482 rows × 6 columns</p>\n",
       "</div>"
      ],
      "text/plain": [
       "         Unnamed: 0    CustId  Frequency  Recency      Monetary  \\\n",
       "0                 0  15199727       1624       26  5.933760e+07   \n",
       "1                 1    213865       2852        6  7.009621e+07   \n",
       "2                 2  15284766       5887        3  1.666437e+08   \n",
       "3                 3  15908036        124       72  7.590200e+05   \n",
       "4                 4  14471235       5390       10  9.211388e+07   \n",
       "...             ...       ...        ...      ...           ...   \n",
       "1184477     1184477  15468053      11252       11  6.646246e+08   \n",
       "1184478     1184478  14039494      12688        3  7.567593e+08   \n",
       "1184479     1184479     63534        183       73  0.000000e+00   \n",
       "1184480     1184480   1300327      63379        3  4.904952e+09   \n",
       "1184481     1184481  14123678       5415        3  2.316480e+07   \n",
       "\n",
       "                         DateLoaded  \n",
       "0        2022-12-25 10:16:04.026666  \n",
       "1        2022-12-25 10:16:04.026666  \n",
       "2        2022-12-25 10:16:04.026666  \n",
       "3        2022-12-25 10:16:04.026666  \n",
       "4        2022-12-25 10:16:04.026666  \n",
       "...                             ...  \n",
       "1184477  2022-12-25 10:16:04.026666  \n",
       "1184478  2022-12-25 10:16:04.026666  \n",
       "1184479  2022-12-25 10:16:04.026666  \n",
       "1184480  2022-12-25 10:16:04.026666  \n",
       "1184481  2022-12-25 10:16:04.026666  \n",
       "\n",
       "[1184482 rows x 6 columns]"
      ]
     },
     "execution_count": 53,
     "metadata": {},
     "output_type": "execute_result"
    }
   ],
   "source": [
    "#import data from csv to dataframe using pandas..\n",
    "df = pd.read_csv('dataset\\seg_RFM_df.csv')\n",
    "df.drop_duplicates()"
   ]
  },
  {
   "cell_type": "markdown",
   "metadata": {
    "application/vnd.databricks.v1+cell": {
     "inputWidgets": {},
     "nuid": "c2a30b95-e904-4443-b69d-bd8c174bbeeb",
     "showTitle": false,
     "title": ""
    },
    "azdata_cell_guid": "e2eea8ea-4fe0-4d12-9f6c-274567cd7863"
   },
   "source": [
    "## Brief EDA on dataset"
   ]
  },
  {
   "cell_type": "code",
   "execution_count": 54,
   "metadata": {
    "application/vnd.databricks.v1+cell": {
     "inputWidgets": {},
     "nuid": "3450ee2c-fee0-4da0-866a-932c2da65272",
     "showTitle": false,
     "title": ""
    },
    "azdata_cell_guid": "8a652e81-ff9e-42d8-8c62-44963886bc0f",
    "gather": {
     "logged": 1644045757355
    },
    "language": "python"
   },
   "outputs": [
    {
     "data": {
      "image/png": "[encoded data removed]",
      "text/plain": [
       "<Figure size 640x480 with 1 Axes>"
      ]
     },
     "metadata": {},
     "output_type": "display_data"
    }
   ],
   "source": [
    "df['Recency'].plot.box() \n",
    "plt.show()"
   ]
  },
  {
   "cell_type": "code",
   "execution_count": 55,
   "metadata": {
    "application/vnd.databricks.v1+cell": {
     "inputWidgets": {},
     "nuid": "2331e859-361d-4ec0-b946-9ce24cd3864e",
     "showTitle": false,
     "title": ""
    },
    "azdata_cell_guid": "be093821-d6ec-4e4e-8d85-31006d9384b2",
    "gather": {
     "logged": 1644045770203
    },
    "language": "python"
   },
   "outputs": [
    {
     "data": {
      "image/png": "[encoded data removed]",
      "text/plain": [
       "<Figure size 640x480 with 1 Axes>"
      ]
     },
     "metadata": {},
     "output_type": "display_data"
    }
   ],
   "source": [
    "sns.distplot(df['Recency'])\n",
    "#plt.savefig('plt/DaysSinceLastTx.png')\n",
    "\n",
    "plt.show()"
   ]
  },
  {
   "cell_type": "code",
   "execution_count": 56,
   "metadata": {
    "application/vnd.databricks.v1+cell": {
     "inputWidgets": {},
     "nuid": "cfbf4572-d94e-41eb-9a9b-e87787b31e10",
     "showTitle": false,
     "title": ""
    },
    "azdata_cell_guid": "c5551fc6-1136-422b-8dfb-fe506d34e07c",
    "gather": {
     "logged": 1644045781755
    },
    "language": "python"
   },
   "outputs": [
    {
     "data": {
      "image/png": "[encoded data removed]",
      "text/plain": [
       "<Figure size 640x480 with 1 Axes>"
      ]
     },
     "metadata": {},
     "output_type": "display_data"
    }
   ],
   "source": [
    "sns.distplot(df['Frequency'])\n",
    "#plt.savefig('plt/txcount.png')\n",
    "\n",
    "plt.show()"
   ]
  },
  {
   "cell_type": "code",
   "execution_count": 57,
   "metadata": {
    "application/vnd.databricks.v1+cell": {
     "inputWidgets": {},
     "nuid": "62d4f9f4-019c-4c99-8b93-a1f2456e5a94",
     "showTitle": false,
     "title": ""
    },
    "azdata_cell_guid": "edda9587-f610-4182-9b58-0b293aad36e1",
    "gather": {
     "logged": 1644045793147
    },
    "language": "python",
    "tags": []
   },
   "outputs": [],
   "source": [
    "sns.distplot(df['Monetary'])\n",
    "#plt.savefig('plt/revenue.png')\n",
    "\n",
    "plt.show()"
   ]
  },
  {
   "cell_type": "markdown",
   "metadata": {
    "application/vnd.databricks.v1+cell": {
     "inputWidgets": {},
     "nuid": "0a53e833-fb2b-4245-92da-9eb560433884",
     "showTitle": false,
     "title": ""
    },
    "azdata_cell_guid": "161fce1b-cdf4-4462-9e07-ae809d5b467e"
   },
   "source": [
    "## Preprocessing of dataset for modelling"
   ]
  },
  {
   "cell_type": "code",
   "execution_count": null,
   "metadata": {
    "application/vnd.databricks.v1+cell": {
     "inputWidgets": {},
     "nuid": "420ff542-6b9b-4bdd-be32-05eac7c1aaf9",
     "showTitle": false,
     "title": ""
    },
    "azdata_cell_guid": "a1a2f25a-8527-4f92-8a9b-0d45fa6abacd",
    "gather": {
     "logged": 1644045833306
    },
    "language": "python"
   },
   "outputs": [
    {
     "data": {
      "text/html": [
       "<div>\n",
       "<style scoped>\n",
       "    .dataframe tbody tr th:only-of-type {\n",
       "        vertical-align: middle;\n",
       "    }\n",
       "\n",
       "    .dataframe tbody tr th {\n",
       "        vertical-align: top;\n",
       "    }\n",
       "\n",
       "    .dataframe thead th {\n",
       "        text-align: right;\n",
       "    }\n",
       "</style>\n",
       "<table border=\"1\" class=\"dataframe\">\n",
       "  <thead>\n",
       "    <tr style=\"text-align: right;\">\n",
       "      <th></th>\n",
       "      <th>CustId</th>\n",
       "      <th>Recency</th>\n",
       "      <th>Frequency</th>\n",
       "      <th>Monetary</th>\n",
       "    </tr>\n",
       "  </thead>\n",
       "  <tbody>\n",
       "    <tr>\n",
       "      <th>0</th>\n",
       "      <td>15199727</td>\n",
       "      <td>26</td>\n",
       "      <td>1624</td>\n",
       "      <td>5.933760e+07</td>\n",
       "    </tr>\n",
       "    <tr>\n",
       "      <th>1</th>\n",
       "      <td>213865</td>\n",
       "      <td>6</td>\n",
       "      <td>2852</td>\n",
       "      <td>7.009621e+07</td>\n",
       "    </tr>\n",
       "    <tr>\n",
       "      <th>2</th>\n",
       "      <td>15284766</td>\n",
       "      <td>3</td>\n",
       "      <td>5887</td>\n",
       "      <td>1.666437e+08</td>\n",
       "    </tr>\n",
       "    <tr>\n",
       "      <th>3</th>\n",
       "      <td>15908036</td>\n",
       "      <td>72</td>\n",
       "      <td>124</td>\n",
       "      <td>7.590200e+05</td>\n",
       "    </tr>\n",
       "    <tr>\n",
       "      <th>4</th>\n",
       "      <td>14471235</td>\n",
       "      <td>10</td>\n",
       "      <td>5390</td>\n",
       "      <td>9.211388e+07</td>\n",
       "    </tr>\n",
       "  </tbody>\n",
       "</table>\n",
       "</div>"
      ],
      "text/plain": [
       "     CustId  Recency  Frequency      Monetary\n",
       "0  15199727       26       1624  5.933760e+07\n",
       "1    213865        6       2852  7.009621e+07\n",
       "2  15284766        3       5887  1.666437e+08\n",
       "3  15908036       72        124  7.590200e+05\n",
       "4  14471235       10       5390  9.211388e+07"
      ]
     },
     "execution_count": 26,
     "metadata": {},
     "output_type": "execute_result"
    }
   ],
   "source": [
    "sdf =  psql.sqldf(\"select CustId, Recency, Frequency, Monetary from df\")\n",
    "sdf.head()"
   ]
  },
  {
   "cell_type": "code",
   "execution_count": null,
   "metadata": {
    "application/vnd.databricks.v1+cell": {
     "inputWidgets": {},
     "nuid": "daefc9a3-633b-4a85-ba4a-be12fc9d927c",
     "showTitle": false,
     "title": ""
    },
    "azdata_cell_guid": "c5d31cc8-9dbb-48df-9611-623242f27432",
    "gather": {
     "logged": 1644045833478
    },
    "language": "python",
    "tags": []
   },
   "outputs": [],
   "source": [
    "rfm = sdf"
   ]
  },
  {
   "cell_type": "markdown",
   "metadata": {
    "application/vnd.databricks.v1+cell": {
     "inputWidgets": {},
     "nuid": "0fb4b675-0457-4c5b-95b2-f3d6ed012c84",
     "showTitle": false,
     "title": ""
    },
    "azdata_cell_guid": "3c43f298-9a62-4dd0-8e32-b6355d5ba85c"
   },
   "source": [
    "## Clustering by RFM"
   ]
  },
  {
   "cell_type": "code",
   "execution_count": null,
   "metadata": {
    "application/vnd.databricks.v1+cell": {
     "inputWidgets": {},
     "nuid": "e602cab6-67f4-4f01-9d3a-f95befaaadbf",
     "showTitle": false,
     "title": ""
    },
    "azdata_cell_guid": "05972c0b-6775-4b67-9a0e-74ce44d91909",
    "gather": {
     "logged": 1644045833648
    },
    "language": "python",
    "scrolled": true
   },
   "outputs": [
    {
     "data": {
      "text/plain": [
       "{'Recency': {0.2: 3.0, 0.4: 4.0, 0.6: 12.0, 0.8: 45.0},\n",
       " 'Frequency': {0.2: 244.0, 0.4: 1330.0, 0.6: 4368.0, 0.8: 13320.0},\n",
       " 'Monetary': {0.2: 1473614.304000001,\n",
       "  0.4: 12987979.0,\n",
       "  0.6: 43794313.79999999,\n",
       "  0.8: 155974338.10000005}}"
      ]
     },
     "execution_count": 28,
     "metadata": {},
     "output_type": "execute_result"
    }
   ],
   "source": [
    "quintiles = rfm[['Recency', 'Frequency', 'Monetary']].quantile([.2, .4, .6, .8]).to_dict()\n",
    "quintiles"
   ]
  },
  {
   "cell_type": "code",
   "execution_count": null,
   "metadata": {
    "application/vnd.databricks.v1+cell": {
     "inputWidgets": {},
     "nuid": "0743b321-602b-4af1-be58-0b79e5dfe703",
     "showTitle": false,
     "title": ""
    },
    "azdata_cell_guid": "abf5867f-c64f-4ff5-8e0c-f3b05ac61a52",
    "gather": {
     "logged": 1644045833808
    },
    "language": "python"
   },
   "outputs": [],
   "source": [
    "def r_score(x):\n",
    "    if x <= quintiles['Recency'][.2]:\n",
    "        return 5\n",
    "    elif x <= quintiles['Recency'][.4]:\n",
    "        return 4\n",
    "    elif x <= quintiles['Recency'][.6]:\n",
    "        return 3\n",
    "    elif x <= quintiles['Recency'][.8]:\n",
    "        return 2\n",
    "    else:\n",
    "        return 1\n",
    "\n",
    "def fm_score(x, c):\n",
    "    if x <= quintiles[c][.2]:\n",
    "        return 1\n",
    "    elif x <= quintiles[c][.4]:\n",
    "        return 2\n",
    "    elif x <= quintiles[c][.6]:\n",
    "        return 3\n",
    "    elif x <= quintiles[c][.8]:\n",
    "        return 4\n",
    "    else:\n",
    "        return 5 "
   ]
  },
  {
   "cell_type": "code",
   "execution_count": null,
   "metadata": {
    "application/vnd.databricks.v1+cell": {
     "inputWidgets": {},
     "nuid": "581157d6-5b16-4361-ae41-6aa9c26e6c21",
     "showTitle": false,
     "title": ""
    },
    "azdata_cell_guid": "d60a8f69-d703-48cf-b467-8db014f58f44",
    "gather": {
     "logged": 1644045839472
    },
    "language": "python",
    "scrolled": true
   },
   "outputs": [],
   "source": [
    "rfm['R'] = rfm['Recency'].apply(lambda x: r_score(x))\n",
    "rfm['F'] = rfm['Frequency'].apply(lambda x: fm_score(x, 'Frequency'))\n",
    "rfm['M'] = rfm['Monetary'].apply(lambda x: fm_score(x, 'Monetary'))"
   ]
  },
  {
   "cell_type": "code",
   "execution_count": null,
   "metadata": {
    "application/vnd.databricks.v1+cell": {
     "inputWidgets": {},
     "nuid": "415c727a-c172-4980-94df-31d470d45d1a",
     "showTitle": false,
     "title": ""
    },
    "azdata_cell_guid": "e8ea1a4d-5fe3-4dea-8911-7488cc8749b4",
    "gather": {
     "logged": 1644045841676
    },
    "language": "python"
   },
   "outputs": [
    {
     "data": {
      "text/html": [
       "<div>\n",
       "<style scoped>\n",
       "    .dataframe tbody tr th:only-of-type {\n",
       "        vertical-align: middle;\n",
       "    }\n",
       "\n",
       "    .dataframe tbody tr th {\n",
       "        vertical-align: top;\n",
       "    }\n",
       "\n",
       "    .dataframe thead th {\n",
       "        text-align: right;\n",
       "    }\n",
       "</style>\n",
       "<table border=\"1\" class=\"dataframe\">\n",
       "  <thead>\n",
       "    <tr style=\"text-align: right;\">\n",
       "      <th></th>\n",
       "      <th>CustId</th>\n",
       "      <th>Recency</th>\n",
       "      <th>Frequency</th>\n",
       "      <th>Monetary</th>\n",
       "      <th>R</th>\n",
       "      <th>F</th>\n",
       "      <th>M</th>\n",
       "      <th>RFM Score</th>\n",
       "    </tr>\n",
       "  </thead>\n",
       "  <tbody>\n",
       "    <tr>\n",
       "      <th>0</th>\n",
       "      <td>15199727</td>\n",
       "      <td>26</td>\n",
       "      <td>1624</td>\n",
       "      <td>5.933760e+07</td>\n",
       "      <td>2</td>\n",
       "      <td>3</td>\n",
       "      <td>4</td>\n",
       "      <td>234</td>\n",
       "    </tr>\n",
       "    <tr>\n",
       "      <th>1</th>\n",
       "      <td>213865</td>\n",
       "      <td>6</td>\n",
       "      <td>2852</td>\n",
       "      <td>7.009621e+07</td>\n",
       "      <td>3</td>\n",
       "      <td>3</td>\n",
       "      <td>4</td>\n",
       "      <td>334</td>\n",
       "    </tr>\n",
       "    <tr>\n",
       "      <th>2</th>\n",
       "      <td>15284766</td>\n",
       "      <td>3</td>\n",
       "      <td>5887</td>\n",
       "      <td>1.666437e+08</td>\n",
       "      <td>5</td>\n",
       "      <td>4</td>\n",
       "      <td>5</td>\n",
       "      <td>545</td>\n",
       "    </tr>\n",
       "    <tr>\n",
       "      <th>3</th>\n",
       "      <td>15908036</td>\n",
       "      <td>72</td>\n",
       "      <td>124</td>\n",
       "      <td>7.590200e+05</td>\n",
       "      <td>1</td>\n",
       "      <td>1</td>\n",
       "      <td>1</td>\n",
       "      <td>111</td>\n",
       "    </tr>\n",
       "    <tr>\n",
       "      <th>4</th>\n",
       "      <td>14471235</td>\n",
       "      <td>10</td>\n",
       "      <td>5390</td>\n",
       "      <td>9.211388e+07</td>\n",
       "      <td>3</td>\n",
       "      <td>4</td>\n",
       "      <td>4</td>\n",
       "      <td>344</td>\n",
       "    </tr>\n",
       "  </tbody>\n",
       "</table>\n",
       "</div>"
      ],
      "text/plain": [
       "     CustId  Recency  Frequency      Monetary  R  F  M RFM Score\n",
       "0  15199727       26       1624  5.933760e+07  2  3  4       234\n",
       "1    213865        6       2852  7.009621e+07  3  3  4       334\n",
       "2  15284766        3       5887  1.666437e+08  5  4  5       545\n",
       "3  15908036       72        124  7.590200e+05  1  1  1       111\n",
       "4  14471235       10       5390  9.211388e+07  3  4  4       344"
      ]
     },
     "execution_count": 31,
     "metadata": {},
     "output_type": "execute_result"
    }
   ],
   "source": [
    "rfm['RFM Score'] = rfm['R'].map(str) + rfm['F'].map(str) + rfm['M'].map(str)\n",
    "rfm.head()"
   ]
  },
  {
   "cell_type": "code",
   "execution_count": null,
   "metadata": {
    "application/vnd.databricks.v1+cell": {
     "inputWidgets": {},
     "nuid": "31530c96-9b0e-4591-afcb-7b0f9d217c42",
     "showTitle": false,
     "title": ""
    },
    "azdata_cell_guid": "44c78460-ba47-4fc1-ae10-1524e6b43b51",
    "gather": {
     "logged": 1644045875599
    },
    "language": "python",
    "tags": []
   },
   "outputs": [
    {
     "data": {
      "text/html": [
       "<div>\n",
       "<style scoped>\n",
       "    .dataframe tbody tr th:only-of-type {\n",
       "        vertical-align: middle;\n",
       "    }\n",
       "\n",
       "    .dataframe tbody tr th {\n",
       "        vertical-align: top;\n",
       "    }\n",
       "\n",
       "    .dataframe thead th {\n",
       "        text-align: right;\n",
       "    }\n",
       "</style>\n",
       "<table border=\"1\" class=\"dataframe\">\n",
       "  <thead>\n",
       "    <tr style=\"text-align: right;\">\n",
       "      <th></th>\n",
       "      <th>CustId</th>\n",
       "      <th>Recency</th>\n",
       "      <th>Frequency</th>\n",
       "      <th>Monetary</th>\n",
       "      <th>R</th>\n",
       "      <th>F</th>\n",
       "      <th>M</th>\n",
       "      <th>RFM Score</th>\n",
       "      <th>Segment</th>\n",
       "    </tr>\n",
       "  </thead>\n",
       "  <tbody>\n",
       "    <tr>\n",
       "      <th>0</th>\n",
       "      <td>15199727</td>\n",
       "      <td>26</td>\n",
       "      <td>1624</td>\n",
       "      <td>5.933760e+07</td>\n",
       "      <td>2</td>\n",
       "      <td>3</td>\n",
       "      <td>4</td>\n",
       "      <td>234</td>\n",
       "      <td>At Risk</td>\n",
       "    </tr>\n",
       "    <tr>\n",
       "      <th>1</th>\n",
       "      <td>213865</td>\n",
       "      <td>6</td>\n",
       "      <td>2852</td>\n",
       "      <td>7.009621e+07</td>\n",
       "      <td>3</td>\n",
       "      <td>3</td>\n",
       "      <td>4</td>\n",
       "      <td>334</td>\n",
       "      <td>Need Attention</td>\n",
       "    </tr>\n",
       "    <tr>\n",
       "      <th>2</th>\n",
       "      <td>15284766</td>\n",
       "      <td>3</td>\n",
       "      <td>5887</td>\n",
       "      <td>1.666437e+08</td>\n",
       "      <td>5</td>\n",
       "      <td>4</td>\n",
       "      <td>5</td>\n",
       "      <td>545</td>\n",
       "      <td>Champions</td>\n",
       "    </tr>\n",
       "    <tr>\n",
       "      <th>3</th>\n",
       "      <td>15908036</td>\n",
       "      <td>72</td>\n",
       "      <td>124</td>\n",
       "      <td>7.590200e+05</td>\n",
       "      <td>1</td>\n",
       "      <td>1</td>\n",
       "      <td>1</td>\n",
       "      <td>111</td>\n",
       "      <td>Hibernating</td>\n",
       "    </tr>\n",
       "    <tr>\n",
       "      <th>4</th>\n",
       "      <td>14471235</td>\n",
       "      <td>10</td>\n",
       "      <td>5390</td>\n",
       "      <td>9.211388e+07</td>\n",
       "      <td>3</td>\n",
       "      <td>4</td>\n",
       "      <td>4</td>\n",
       "      <td>344</td>\n",
       "      <td>Loyal Customers</td>\n",
       "    </tr>\n",
       "  </tbody>\n",
       "</table>\n",
       "</div>"
      ],
      "text/plain": [
       "     CustId  Recency  Frequency      Monetary  R  F  M RFM Score  \\\n",
       "0  15199727       26       1624  5.933760e+07  2  3  4       234   \n",
       "1    213865        6       2852  7.009621e+07  3  3  4       334   \n",
       "2  15284766        3       5887  1.666437e+08  5  4  5       545   \n",
       "3  15908036       72        124  7.590200e+05  1  1  1       111   \n",
       "4  14471235       10       5390  9.211388e+07  3  4  4       344   \n",
       "\n",
       "           Segment  \n",
       "0          At Risk  \n",
       "1   Need Attention  \n",
       "2        Champions  \n",
       "3      Hibernating  \n",
       "4  Loyal Customers  "
      ]
     },
     "execution_count": 32,
     "metadata": {},
     "output_type": "execute_result"
    }
   ],
   "source": [
    "segt_map = {\n",
    "    r'[1-2][1-2]': 'Hibernating',\n",
    "    r'[1-2][3-4]': 'At Risk',\n",
    "    r'[1-2]5': 'Can\\'t Loose',\n",
    "    r'3[1-2]': 'About To Sleep',\n",
    "    r'33': 'Need Attention',\n",
    "    r'[3-4][4-5]': 'Loyal Customers',\n",
    "    r'41': 'Promising',\n",
    "    r'51': 'New Customers',\n",
    "    r'[4-5][2-3]': 'Potential Loyalists',\n",
    "    r'5[4-5]': 'Champions'\n",
    "}\n",
    "\n",
    "rfm['Segment'] = rfm['R'].map(str) + rfm['F'].map(str)\n",
    "rfm['Segment'] = rfm['Segment'].replace(segt_map, regex=True)\n",
    "rfm.head()"
   ]
  },
  {
   "cell_type": "code",
   "execution_count": null,
   "metadata": {
    "application/vnd.databricks.v1+cell": {
     "inputWidgets": {},
     "nuid": "700bc9a1-2889-4ee8-b9e4-2e3644060269",
     "showTitle": false,
     "title": ""
    },
    "azdata_cell_guid": "2d2e2762-3a3b-45c6-a508-cfad55e49f7a",
    "gather": {
     "logged": 1644045876211
    },
    "language": "python",
    "scrolled": true
   },
   "outputs": [
    {
     "data": {
      "image/png": "[encoded data removed]",
      "text/plain": [
       "<Figure size 640x480 with 1 Axes>"
      ]
     },
     "metadata": {},
     "output_type": "display_data"
    }
   ],
   "source": [
    "# count the number of customers in each segment\n",
    "segments_counts = rfm['Segment'].value_counts().sort_values(ascending=True)\n",
    "\n",
    "fig, ax = plt.subplots()\n",
    "\n",
    "bars = ax.barh(range(len(segments_counts)),\n",
    "              segments_counts,\n",
    "              color='silver')\n",
    "ax.set_frame_on(False)\n",
    "ax.tick_params(left=False,\n",
    "               bottom=False,\n",
    "               labelbottom=False)\n",
    "ax.set_yticks(range(len(segments_counts)))\n",
    "ax.set_yticklabels(segments_counts.index)\n",
    "\n",
    "for i, bar in enumerate(bars):\n",
    "        value = bar.get_width()\n",
    "        if segments_counts.index[i] in ['Champions', 'Loyal Customers']:\n",
    "            bar.set_color('green')\n",
    "        ax.text(value,\n",
    "                bar.get_y() + bar.get_height()/2,\n",
    "                '{:,} ({:}%)'.format(int(value),\n",
    "                                   int(value*100/segments_counts.sum())),\n",
    "                va='center',\n",
    "                ha='left'\n",
    "               )\n",
    "#plt.savefig('plt/rfmsegments.png')\n",
    "\n",
    "plt.show()"
   ]
  },
  {
   "cell_type": "code",
   "execution_count": null,
   "metadata": {
    "application/vnd.databricks.v1+cell": {
     "inputWidgets": {},
     "nuid": "ae0a36d7-50f1-494e-856b-06180eb00724",
     "showTitle": false,
     "title": ""
    },
    "azdata_cell_guid": "14f786a3-af36-4bf0-a368-ff2c377ba688",
    "gather": {
     "logged": 1644045890573
    },
    "language": "python"
   },
   "outputs": [
    {
     "data": {
      "image/png": "[encoded data removed]",
      "text/plain": [
       "<Figure size 640x480 with 1 Axes>"
      ]
     },
     "metadata": {},
     "output_type": "display_data"
    }
   ],
   "source": [
    "# Distribution of the RFM Segments\n",
    "\n",
    "sns.distplot(rfm['RFM Score'])\n",
    "#plt.savefig('plt/rfm_score.png')\n",
    "\n",
    "plt.show()"
   ]
  },
  {
   "cell_type": "markdown",
   "metadata": {
    "application/vnd.databricks.v1+cell": {
     "inputWidgets": {},
     "nuid": "c2a3e0f5-2a1b-478e-903b-49761082f15d",
     "showTitle": false,
     "title": ""
    },
    "azdata_cell_guid": "5a58a5c4-9968-4996-99f7-219f70be5b45"
   },
   "source": [
    "I also discovered customer lifetime can also skew recency and frequency causing outliers,, you know older customer will naturally have high frequency, while new customers would naturally have good recency"
   ]
  },
  {
   "cell_type": "markdown",
   "metadata": {
    "application/vnd.databricks.v1+cell": {
     "inputWidgets": {},
     "nuid": "b5d79dec-2414-4f5c-93e0-15a81a8a7d5f",
     "showTitle": false,
     "title": ""
    },
    "azdata_cell_guid": "b1285bc9-a67e-4fd4-a7ce-5bcbdbea3e04"
   },
   "source": [
    "## Description of RFM clusters\n",
    "\n",
    "\n",
    "| Segment |  Description|\n",
    "|--|--|\n",
    "| Champions |  Transacted recently, and often and profitable customers\t\t\n",
    "|  Loyal Customers|            Our hot high profitable customers, transacting frequently and recently.  |\n",
    "|Potential Loyalist|Recent customers with average frequency in transaction|\n",
    "|New Customers\t| Recently transacted, but not frequently. |\n",
    "| Promising |  Recently transacted, but returns low monetary value |\n",
    "|Customers Needing Attention|Above average recency, frequency and monetary values. May not have transacted very recently                                 though.|\n",
    "| About To Sleep | Below average recency and frequency. Will lose them if not reactivated |\n",
    "| At Risk | Below average recency and frequency. Will lose them if not reactivated. |\n",
    "|Can't Loose|History of frequent transaction but no recency|\n",
    "| Hibernating | Last transaction was a long time ago |"
   ]
  },
  {
   "cell_type": "markdown",
   "metadata": {
    "application/vnd.databricks.v1+cell": {
     "inputWidgets": {},
     "nuid": "73b59fac-3c8f-4208-baa5-50f92b1a1ce4",
     "showTitle": false,
     "title": ""
    },
    "azdata_cell_guid": "4a22bf06-8b26-4051-be10-45a9cdc85253"
   },
   "source": [
    "## Processing clustering results"
   ]
  },
  {
   "cell_type": "code",
   "execution_count": null,
   "metadata": {
    "azdata_cell_guid": "39f15985-b729-40f9-984d-434b8aae386a",
    "language": "python"
   },
   "outputs": [
    {
     "data": {
      "text/html": [
       "<div>\n",
       "<style scoped>\n",
       "    .dataframe tbody tr th:only-of-type {\n",
       "        vertical-align: middle;\n",
       "    }\n",
       "\n",
       "    .dataframe tbody tr th {\n",
       "        vertical-align: top;\n",
       "    }\n",
       "\n",
       "    .dataframe thead th {\n",
       "        text-align: right;\n",
       "    }\n",
       "</style>\n",
       "<table border=\"1\" class=\"dataframe\">\n",
       "  <thead>\n",
       "    <tr style=\"text-align: right;\">\n",
       "      <th></th>\n",
       "      <th>CustId</th>\n",
       "      <th>Recency</th>\n",
       "      <th>Frequency</th>\n",
       "      <th>Monetary</th>\n",
       "      <th>R</th>\n",
       "      <th>F</th>\n",
       "      <th>M</th>\n",
       "      <th>RFM Score</th>\n",
       "      <th>Segment</th>\n",
       "    </tr>\n",
       "  </thead>\n",
       "  <tbody>\n",
       "    <tr>\n",
       "      <th>0</th>\n",
       "      <td>15199727</td>\n",
       "      <td>26</td>\n",
       "      <td>1624</td>\n",
       "      <td>5.933760e+07</td>\n",
       "      <td>2</td>\n",
       "      <td>3</td>\n",
       "      <td>4</td>\n",
       "      <td>234</td>\n",
       "      <td>At Risk</td>\n",
       "    </tr>\n",
       "    <tr>\n",
       "      <th>1</th>\n",
       "      <td>213865</td>\n",
       "      <td>6</td>\n",
       "      <td>2852</td>\n",
       "      <td>7.009621e+07</td>\n",
       "      <td>3</td>\n",
       "      <td>3</td>\n",
       "      <td>4</td>\n",
       "      <td>334</td>\n",
       "      <td>Need Attention</td>\n",
       "    </tr>\n",
       "    <tr>\n",
       "      <th>2</th>\n",
       "      <td>15284766</td>\n",
       "      <td>3</td>\n",
       "      <td>5887</td>\n",
       "      <td>1.666437e+08</td>\n",
       "      <td>5</td>\n",
       "      <td>4</td>\n",
       "      <td>5</td>\n",
       "      <td>545</td>\n",
       "      <td>Champions</td>\n",
       "    </tr>\n",
       "    <tr>\n",
       "      <th>3</th>\n",
       "      <td>15908036</td>\n",
       "      <td>72</td>\n",
       "      <td>124</td>\n",
       "      <td>7.590200e+05</td>\n",
       "      <td>1</td>\n",
       "      <td>1</td>\n",
       "      <td>1</td>\n",
       "      <td>111</td>\n",
       "      <td>Hibernating</td>\n",
       "    </tr>\n",
       "    <tr>\n",
       "      <th>4</th>\n",
       "      <td>14471235</td>\n",
       "      <td>10</td>\n",
       "      <td>5390</td>\n",
       "      <td>9.211388e+07</td>\n",
       "      <td>3</td>\n",
       "      <td>4</td>\n",
       "      <td>4</td>\n",
       "      <td>344</td>\n",
       "      <td>Loyal Customers</td>\n",
       "    </tr>\n",
       "  </tbody>\n",
       "</table>\n",
       "</div>"
      ],
      "text/plain": [
       "     CustId  Recency  Frequency      Monetary  R  F  M RFM Score  \\\n",
       "0  15199727       26       1624  5.933760e+07  2  3  4       234   \n",
       "1    213865        6       2852  7.009621e+07  3  3  4       334   \n",
       "2  15284766        3       5887  1.666437e+08  5  4  5       545   \n",
       "3  15908036       72        124  7.590200e+05  1  1  1       111   \n",
       "4  14471235       10       5390  9.211388e+07  3  4  4       344   \n",
       "\n",
       "           Segment  \n",
       "0          At Risk  \n",
       "1   Need Attention  \n",
       "2        Champions  \n",
       "3      Hibernating  \n",
       "4  Loyal Customers  "
      ]
     },
     "execution_count": 48,
     "metadata": {},
     "output_type": "execute_result"
    }
   ],
   "source": [
    "\n",
    "#rfm.to_csv('clustering_result\\rfm_clusters.csv')\n",
    "\n",
    "rfm.head()"
   ]
  },
  {
   "cell_type": "code",
   "execution_count": null,
   "metadata": {
    "application/vnd.databricks.v1+cell": {
     "inputWidgets": {},
     "nuid": "3940e0cc-9854-4144-bb27-452c0af7be83",
     "showTitle": false,
     "title": ""
    },
    "azdata_cell_guid": "ef314e56-565d-4169-94b6-576e1f1cc999",
    "gather": {
     "logged": 1644046292589
    },
    "language": "python"
   },
   "outputs": [],
   "source": [
    "output_table =  psql.sqldf(\"\"\"\n",
    "                \n",
    "    SELECT *, Segment,\n",
    "\n",
    "    CASE\t\n",
    "\t\tWHEN [RFM Score] >= 500 THEN 'Champion Caleb' \n",
    "\t\tWHEN [RFM Score] >= 400 THEN 'Promising Peter' \n",
    "\t\tWHEN [RFM Score] >= 300 THEN 'Lukewarm Jude' \n",
    "\t\tWHEN [RFM Score] >= 200 THEN 'Cold Clara' \n",
    "\t\tWHEN [RFM Score] <200 THEN 'Dormant Dora' \n",
    "    END AS [Cluster]\n",
    "    \n",
    "   -- Segment\n",
    "\n",
    "\n",
    "\n",
    "    FROM rfm\n",
    "\n",
    "                  \"\"\")\n",
    "\n",
    "\n",
    "sdf2 = output_table\n",
    "sdf2['RunDate'] = pd.to_datetime('today')\n",
    "\n",
    "\n",
    "\n"
   ]
  },
  {
   "cell_type": "code",
   "execution_count": null,
   "metadata": {
    "application/vnd.databricks.v1+cell": {
     "inputWidgets": {},
     "nuid": "c9ce5e24-bb3d-4032-8bf1-b81bbdf15404",
     "showTitle": false,
     "title": ""
    },
    "azdata_cell_guid": "6f4d16eb-aea5-4285-bd78-520f25c913a8",
    "language": "python"
   },
   "outputs": [
    {
     "data": {
      "text/html": [
       "<div>\n",
       "<style scoped>\n",
       "    .dataframe tbody tr th:only-of-type {\n",
       "        vertical-align: middle;\n",
       "    }\n",
       "\n",
       "    .dataframe tbody tr th {\n",
       "        vertical-align: top;\n",
       "    }\n",
       "\n",
       "    .dataframe thead th {\n",
       "        text-align: right;\n",
       "    }\n",
       "</style>\n",
       "<table border=\"1\" class=\"dataframe\">\n",
       "  <thead>\n",
       "    <tr style=\"text-align: right;\">\n",
       "      <th></th>\n",
       "      <th>CustId</th>\n",
       "      <th>Recency</th>\n",
       "      <th>Frequency</th>\n",
       "      <th>Monetary</th>\n",
       "      <th>R</th>\n",
       "      <th>F</th>\n",
       "      <th>M</th>\n",
       "      <th>RFM Score</th>\n",
       "      <th>Segment</th>\n",
       "      <th>Cluster</th>\n",
       "      <th>RunDate</th>\n",
       "    </tr>\n",
       "  </thead>\n",
       "  <tbody>\n",
       "    <tr>\n",
       "      <th>0</th>\n",
       "      <td>15199727</td>\n",
       "      <td>26</td>\n",
       "      <td>1624</td>\n",
       "      <td>5.933760e+07</td>\n",
       "      <td>2</td>\n",
       "      <td>3</td>\n",
       "      <td>4</td>\n",
       "      <td>234</td>\n",
       "      <td>At Risk</td>\n",
       "      <td>Cold Clara</td>\n",
       "      <td>2022-12-25 13:08:37.045554</td>\n",
       "    </tr>\n",
       "    <tr>\n",
       "      <th>1</th>\n",
       "      <td>213865</td>\n",
       "      <td>6</td>\n",
       "      <td>2852</td>\n",
       "      <td>7.009621e+07</td>\n",
       "      <td>3</td>\n",
       "      <td>3</td>\n",
       "      <td>4</td>\n",
       "      <td>334</td>\n",
       "      <td>Need Attention</td>\n",
       "      <td>Lukewarm Jude</td>\n",
       "      <td>2022-12-25 13:08:37.045554</td>\n",
       "    </tr>\n",
       "    <tr>\n",
       "      <th>2</th>\n",
       "      <td>15284766</td>\n",
       "      <td>3</td>\n",
       "      <td>5887</td>\n",
       "      <td>1.666437e+08</td>\n",
       "      <td>5</td>\n",
       "      <td>4</td>\n",
       "      <td>5</td>\n",
       "      <td>545</td>\n",
       "      <td>Champions</td>\n",
       "      <td>Champion Caleb</td>\n",
       "      <td>2022-12-25 13:08:37.045554</td>\n",
       "    </tr>\n",
       "    <tr>\n",
       "      <th>3</th>\n",
       "      <td>15908036</td>\n",
       "      <td>72</td>\n",
       "      <td>124</td>\n",
       "      <td>7.590200e+05</td>\n",
       "      <td>1</td>\n",
       "      <td>1</td>\n",
       "      <td>1</td>\n",
       "      <td>111</td>\n",
       "      <td>Hibernating</td>\n",
       "      <td>Dormant Dora</td>\n",
       "      <td>2022-12-25 13:08:37.045554</td>\n",
       "    </tr>\n",
       "    <tr>\n",
       "      <th>4</th>\n",
       "      <td>14471235</td>\n",
       "      <td>10</td>\n",
       "      <td>5390</td>\n",
       "      <td>9.211388e+07</td>\n",
       "      <td>3</td>\n",
       "      <td>4</td>\n",
       "      <td>4</td>\n",
       "      <td>344</td>\n",
       "      <td>Loyal Customers</td>\n",
       "      <td>Lukewarm Jude</td>\n",
       "      <td>2022-12-25 13:08:37.045554</td>\n",
       "    </tr>\n",
       "  </tbody>\n",
       "</table>\n",
       "</div>"
      ],
      "text/plain": [
       "     CustId  Recency  Frequency      Monetary  R  F  M RFM Score  \\\n",
       "0  15199727       26       1624  5.933760e+07  2  3  4       234   \n",
       "1    213865        6       2852  7.009621e+07  3  3  4       334   \n",
       "2  15284766        3       5887  1.666437e+08  5  4  5       545   \n",
       "3  15908036       72        124  7.590200e+05  1  1  1       111   \n",
       "4  14471235       10       5390  9.211388e+07  3  4  4       344   \n",
       "\n",
       "           Segment         Cluster                    RunDate  \n",
       "0          At Risk      Cold Clara 2022-12-25 13:08:37.045554  \n",
       "1   Need Attention   Lukewarm Jude 2022-12-25 13:08:37.045554  \n",
       "2        Champions  Champion Caleb 2022-12-25 13:08:37.045554  \n",
       "3      Hibernating    Dormant Dora 2022-12-25 13:08:37.045554  \n",
       "4  Loyal Customers   Lukewarm Jude 2022-12-25 13:08:37.045554  "
      ]
     },
     "execution_count": 50,
     "metadata": {},
     "output_type": "execute_result"
    }
   ],
   "source": [
    "#sdf2.to_csv('clustering_result\\rfm_slim_clusters.csv')\n",
    "sdf2.head()"
   ]
  }
 ],
 "metadata": {
  "application/vnd.databricks.v1+notebook": {
   "dashboards": [],
   "language": "python",
   "notebookMetadata": {
    "pythonIndentUnit": 2
   },
   "notebookName": "RFM for Retail Customers (1)",
   "notebookOrigID": 889697903883462,
   "widgets": {}
  },
  "kernel_info": {
   "name": "python3"
  },
  "kernelspec": {
   "display_name": "Python 3 (ipykernel)",
   "language": "python",
   "name": "python3"
  },
  "language_info": {
   "codemirror_mode": {
    "name": "ipython",
    "version": 3
   },
   "file_extension": ".py",
   "mimetype": "text/x-python",
   "name": "python",
   "nbconvert_exporter": "python",
   "pygments_lexer": "ipython3",
   "version": "3.9.13"
  },
  "microsoft": {
   "host": {
    "AzureML": {
     "notebookHasBeenCompleted": true
    }
   }
  },
  "nteract": {
   "version": "nteract-front-end@1.0.0"
  },
  "vscode": {
   "interpreter": {
    "hash": "a077222d77dfe082b8f1dd562ad70e458ac2ab76993a0b248ab0476e32e9e8dd"
   }
  }
 },
 "nbformat": 4,
 "nbformat_minor": 4
}
